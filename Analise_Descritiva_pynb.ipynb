{
  "nbformat": 4,
  "nbformat_minor": 0,
  "metadata": {
    "colab": {
      "provenance": [],
      "authorship_tag": "ABX9TyPUh73n/+0hpKpiDp/iUwDu",
      "include_colab_link": true
    },
    "kernelspec": {
      "name": "python3",
      "display_name": "Python 3"
    },
    "language_info": {
      "name": "python"
    }
  },
  "cells": [
    {
      "cell_type": "markdown",
      "metadata": {
        "id": "view-in-github",
        "colab_type": "text"
      },
      "source": [
        "<a href=\"https://colab.research.google.com/github/MarcelaFerreiraR/AnaliseDeDados/blob/main/Analise_Descritiva_pynb.ipynb\" target=\"_parent\"><img src=\"https://colab.research.google.com/assets/colab-badge.svg\" alt=\"Open In Colab\"/></a>"
      ]
    },
    {
      "cell_type": "markdown",
      "source": [
        "# **Analise Descritiva**\n",
        "\n",
        "Vamos estudar a análise descritiva e como fazer uma análise bem feita.  \n",
        "\n",
        "A análise descritiva é o primeiro passo em qualquer processo de exploração de dados. Seu objetivo é **resumir, organizar e compreender as características principais de um conjunto de informações**, permitindo que possamos responder perguntas como:\n",
        "\n",
        "- O que aconteceu nos dados?\n",
        "- Quais são os valores típicos ou centrais?\n",
        "- Existe muita variação ou os dados são consistentes?\n",
        "- Há padrões, tendências ou outliers que chamam atenção?\n",
        "- Como diferentes grupos se comportam dentro da base?\n",
        "\n",
        "Nesta etapa, não buscamos prever o futuro ou explicar causalidades profundas, mas sim **entender o presente dos dados** de forma clara e estruturada.\n",
        "\n",
        "# Sumário - Estudo de Análise Descritiva\n",
        "\n",
        "1. Introdução à Análise Descritiva\n",
        "\n",
        "2. Medidas de Tendência Central\n",
        "   - Média (aritmética, ponderada, geométrica, harmônica)\n",
        "   - Mediana\n",
        "   - Moda\n",
        "\n",
        "3. Medidas de Dispersão\n",
        "   - Amplitude\n",
        "   - Variância\n",
        "   - Desvio Padrão\n",
        "   - Coeficiente de Variação\n",
        "   - Intervalo Interquartílico (IQR)\n",
        "\n",
        "4. Distribuição dos Dados\n",
        "   - Histogramas\n",
        "   - Boxplots\n",
        "   - Curva de Densidade\n",
        "\n",
        "5. Análise de Correlação\n",
        "   - Covariância\n",
        "   - Correlação de Pearson\n",
        "   - Correlação de Spearman\n",
        "\n",
        "6. Análise Categórica\n",
        "   - Tabelas de Frequência\n",
        "   - Crosstab (tabelas cruzadas)\n",
        "   - Gráficos de barras e setores\n",
        "\n",
        "7. Visualização Exploratória\n",
        "   - Quando usar cada tipo de gráfico\n",
        "   - Exemplos práticos com matplotlib/seaborn"
      ],
      "metadata": {
        "id": "soNYDxvFGyJL"
      }
    },
    {
      "cell_type": "code",
      "source": [
        "# Importando Bibliotecas necessarias #\n",
        "\n",
        "import pandas as pd\n",
        "import numpy as np\n",
        "import matplotlib.pyplot as plt\n",
        "import seaborn as sns"
      ],
      "metadata": {
        "id": "IA1fu18oHlVc"
      },
      "execution_count": null,
      "outputs": []
    },
    {
      "cell_type": "markdown",
      "source": [
        "# 2. **Medidas de Tendência Central**\n",
        "\n",
        "\n",
        "As medidas de tendência central são utilizadas para identificar **valores representativos** de um conjunto de dados.  \n",
        "\n",
        "Elas ajudam a responder: *“qual é o valor típico ou central dos meus dados?”*  \n",
        "\n",
        "As principais medidas são:  \n",
        "- **Média Aritmética**: valor aritmético médio.  \n",
        "- **Média Ponderada**: cada valor recebe um peso diferente, útil quando algumas observações são mais importantes que outras.  \n",
        "- **Média Geométrica**: raiz n-ésima do produto dos valores, indicada para taxas de crescimento, proporções ou indicadores multiplicativos.  \n",
        "- **Média Harmônica**: número de observações dividido pela soma dos inversos dos valores, ideal para médias de taxas, velocidades ou razões.  \n",
        "- **Mediana**: valor central da distribuição.  \n",
        "- **Moda**: valor mais frequente.  \n",
        "\n",
        "Cada uma tem seu papel:  \n",
        "- **Média Aritmética** → funciona bem com dados simétricos e sem outliers.  \n",
        "- **Média Ponderada** → quando cada valor tem importância diferente.  \n",
        "- **Média Geométrica** → para crescimento percentual ou multiplicativo.  \n",
        "- **Média Harmônica** → para médias de taxas, velocidades ou proporções.  \n",
        "- **Mediana** → ideal quando existem outliers ou distribuições assimétricas.  \n",
        "- **Moda** → usada em dados categóricos ou para identificar o valor mais comum.\n"
      ],
      "metadata": {
        "id": "bIFAMLQgIxxv"
      }
    },
    {
      "cell_type": "code",
      "source": [
        "# Importando bibliotecas\n",
        "import numpy as np\n",
        "import pandas as pd\n",
        "from scipy.stats import gmean, hmean, mode\n",
        "\n",
        "# Criando um conjunto de dados\n",
        "dados = [5, 7, 8, 5, 6, 7, 8, 100]  # note o outlier (100)\n",
        "\n"
      ],
      "metadata": {
        "colab": {
          "base_uri": "https://localhost:8080/"
        },
        "id": "DS0wpkycIqTJ",
        "outputId": "563b2445-abe3-44e7-c2fe-c86e40847076"
      },
      "execution_count": null,
      "outputs": [
        {
          "output_type": "stream",
          "name": "stdout",
          "text": [
            "Média Aritmética: 18.25\n",
            "Média Ponderada: 7.9\n",
            "Média Geométrica: 0.0600\n",
            "Média Harmônica: 75.0\n",
            "Mediana: 7.0\n",
            "Moda: 5\n"
          ]
        }
      ]
    },
    {
      "cell_type": "markdown",
      "source": [],
      "metadata": {
        "id": "1m3JZ80wLfqz"
      }
    }
  ]
}